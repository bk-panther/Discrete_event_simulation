{
 "cells": [
  {
   "cell_type": "code",
   "execution_count": 53,
   "metadata": {},
   "outputs": [
    {
     "ename": "NameError",
     "evalue": "name 'Queue' is not defined",
     "output_type": "error",
     "traceback": [
      "\u001b[0;31m---------------------------------------------------------------------------\u001b[0m",
      "\u001b[0;31mNameError\u001b[0m                                 Traceback (most recent call last)",
      "\u001b[0;32m<ipython-input-53-67758113c09b>\u001b[0m in \u001b[0;36m<module>\u001b[0;34m\u001b[0m\n\u001b[1;32m     58\u001b[0m \u001b[0;34m\u001b[0m\u001b[0m\n\u001b[1;32m     59\u001b[0m \u001b[0;34m\u001b[0m\u001b[0m\n\u001b[0;32m---> 60\u001b[0;31m \u001b[0ms\u001b[0m \u001b[0;34m=\u001b[0m \u001b[0mSimulation\u001b[0m\u001b[0;34m(\u001b[0m\u001b[0;36m15\u001b[0m\u001b[0;34m)\u001b[0m\u001b[0;34m\u001b[0m\u001b[0;34m\u001b[0m\u001b[0m\n\u001b[0m\u001b[1;32m     61\u001b[0m \u001b[0mprint\u001b[0m\u001b[0;34m(\u001b[0m\u001b[0mlen\u001b[0m\u001b[0;34m(\u001b[0m\u001b[0ms\u001b[0m\u001b[0;34m.\u001b[0m\u001b[0mclient\u001b[0m\u001b[0;34m.\u001b[0m\u001b[0muser\u001b[0m\u001b[0;34m)\u001b[0m\u001b[0;34m)\u001b[0m\u001b[0;34m\u001b[0m\u001b[0;34m\u001b[0m\u001b[0m\n\u001b[1;32m     62\u001b[0m \u001b[0;32mfor\u001b[0m \u001b[0mi\u001b[0m \u001b[0;32min\u001b[0m \u001b[0mrange\u001b[0m\u001b[0;34m(\u001b[0m\u001b[0ms\u001b[0m\u001b[0;34m.\u001b[0m\u001b[0mclient\u001b[0m\u001b[0;34m.\u001b[0m\u001b[0mno_of_users\u001b[0m\u001b[0;34m)\u001b[0m\u001b[0;34m:\u001b[0m\u001b[0;34m\u001b[0m\u001b[0;34m\u001b[0m\u001b[0m\n",
      "\u001b[0;32m<ipython-input-53-67758113c09b>\u001b[0m in \u001b[0;36m__init__\u001b[0;34m(self, users)\u001b[0m\n\u001b[1;32m      8\u001b[0m         \u001b[0mself\u001b[0m\u001b[0;34m.\u001b[0m\u001b[0mt_arrival\u001b[0m \u001b[0;34m=\u001b[0m \u001b[0mself\u001b[0m\u001b[0;34m.\u001b[0m\u001b[0mclient\u001b[0m\u001b[0;34m.\u001b[0m\u001b[0mgenerate_next_arrival\u001b[0m\u001b[0;34m(\u001b[0m\u001b[0;34m)\u001b[0m\u001b[0;34m\u001b[0m\u001b[0;34m\u001b[0m\u001b[0m\n\u001b[1;32m      9\u001b[0m         \u001b[0mself\u001b[0m\u001b[0;34m.\u001b[0m\u001b[0mt_depart\u001b[0m \u001b[0;34m=\u001b[0m \u001b[0mfloat\u001b[0m\u001b[0;34m(\u001b[0m\u001b[0;34m'inf'\u001b[0m\u001b[0;34m)\u001b[0m\u001b[0;34m\u001b[0m\u001b[0;34m\u001b[0m\u001b[0m\n\u001b[0;32m---> 10\u001b[0;31m         \u001b[0mself\u001b[0m\u001b[0;34m.\u001b[0m\u001b[0mqueue\u001b[0m \u001b[0;34m=\u001b[0m \u001b[0mQueue\u001b[0m\u001b[0;34m(\u001b[0m\u001b[0;36m5\u001b[0m\u001b[0;34m)\u001b[0m\u001b[0;34m\u001b[0m\u001b[0;34m\u001b[0m\u001b[0m\n\u001b[0m\u001b[1;32m     11\u001b[0m \u001b[0;34m\u001b[0m\u001b[0m\n\u001b[1;32m     12\u001b[0m     \u001b[0;32mdef\u001b[0m \u001b[0menqueue\u001b[0m\u001b[0;34m(\u001b[0m\u001b[0mself\u001b[0m\u001b[0;34m,\u001b[0m\u001b[0mreq\u001b[0m\u001b[0;34m)\u001b[0m\u001b[0;34m:\u001b[0m\u001b[0;34m\u001b[0m\u001b[0;34m\u001b[0m\u001b[0m\n",
      "\u001b[0;31mNameError\u001b[0m: name 'Queue' is not defined"
     ]
    }
   ],
   "source": [
    "import numpy as np\n",
    "THINK = 1\n",
    "REQ = 0\n",
    "class Simulation:\n",
    "    def __init__(self, users):\n",
    "        self.queue = Queue()\n",
    "        self.clock = 0.0\n",
    "        self.client = Client(users)\n",
    "        self.t_arrival = self.client.generate_next_arrival()\n",
    "        self.t_depart = float('inf')\n",
    "       \n",
    "        \n",
    "    def enqueue(self,req):\n",
    "        return True\n",
    "#         if (queue.is_full() == True):\n",
    "#             return False\n",
    "        \n",
    "    def advance_time(self):\n",
    "        self.t_arrival = self.client.generate_next_arrival()\n",
    "#         self.t_depart = \n",
    "    \n",
    "class Client:\n",
    "    def __init__(self, users):\n",
    "        self.no_of_users = users\n",
    "        self.user = []\n",
    "        for i in range(users):\n",
    "            self.user.append(Users())\n",
    "            \n",
    "    def generate_next_arrival(self):\n",
    "        t = self.user[1].thinktime\n",
    "        for i in range(self.no_of_users):\n",
    "            if (self.user[i].thinktime <  t):\n",
    "                t = self.user[i].thinktime\n",
    "        return t\n",
    "\n",
    "\n",
    "class Users(Simulation):\n",
    "    def __init__(self):\n",
    "        self.state = THINK\n",
    "        self.thinktime = self.generate_thinktime()\n",
    "        self.t_req = self.thinktime\n",
    "        self.req_dropped = 0\n",
    "\n",
    "    def generate_thinktime(self):\n",
    "        return np.random.exponential(6)\n",
    "    \n",
    "    def generate_request(self, clock):\n",
    "        if (self.state == THINK):\n",
    "            self.req = Request(self.t_req,self.tp_timeout)\n",
    "            if (super().enqueue(self.req)):\n",
    "                self.state = REQ\n",
    "                return True\n",
    "            else:\n",
    "                self.req_dropped += 1\n",
    "                self.thinktime = self.generate_thinktime()\n",
    "                self.t_req = self.thinktime\n",
    "                return False\n",
    "        return False\n",
    "        \n",
    "            \n",
    "\n",
    "s = Simulation(15)\n",
    "print(len(s.client.user))\n",
    "for i in range(s.client.no_of_users):\n",
    "    print(s.client.user[i].thinktime)\n",
    "print(\"next arrival\",s.t_arrival)"
   ]
  },
  {
   "cell_type": "code",
   "execution_count": null,
   "metadata": {},
   "outputs": [],
   "source": [
    "class Server:\n",
    "    def __init__(self,s_avg):\n",
    "        self.num_sys = 0\n",
    "        self.t_service = self.generate_service_time()\n",
    "        \n",
    "    def generate_service_time():\n",
    "        return np.randdom.exponential(0.048)"
   ]
  },
  {
   "cell_type": "code",
   "execution_count": null,
   "metadata": {},
   "outputs": [],
   "source": [
    "class Request(Simulation):\n",
    "    "
   ]
  },
  {
   "cell_type": "code",
   "execution_count": 50,
   "metadata": {},
   "outputs": [
    {
     "data": {
      "image/png": "[encoded data removed]",
      "text/plain": [
       "<Figure size 1440x720 with 1 Axes>"
      ]
     },
     "metadata": {
      "needs_background": "light"
     },
     "output_type": "display_data"
    }
   ],
   "source": [
    "class Queue(Simulation):\n",
    "    def __init__(self):\n",
    "        self.len = 1000\n",
    "        self.que = np.empty([self.len],Request())\n",
    "        self.front = -1\n",
    "        self.rear = -1\n",
    "    \n",
    "    def enqueue(req):\n",
    "        if(self.rear - self.front == 1):\n",
    "            return False\n",
    "        if(self.rear==self.front):\n",
    "            return True\n"
   ]
  },
  {
   "cell_type": "code",
   "execution_count": null,
   "metadata": {},
   "outputs": [],
   "source": []
  }
 ],
 "metadata": {
  "kernelspec": {
   "display_name": "Python 3",
   "language": "python",
   "name": "python3"
  },
  "language_info": {
   "codemirror_mode": {
    "name": "ipython",
    "version": 3
   },
   "file_extension": ".py",
   "mimetype": "text/x-python",
   "name": "python",
   "nbconvert_exporter": "python",
   "pygments_lexer": "ipython3",
   "version": "3.8.3"
  }
 },
 "nbformat": 4,
 "nbformat_minor": 4
}
